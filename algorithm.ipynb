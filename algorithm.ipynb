{
 "cells": [
  {
   "cell_type": "code",
   "execution_count": 13,
   "metadata": {},
   "outputs": [],
   "source": [
    "import numpy as np\n",
    "import matplotlib.pyplot as plt\n",
    "import tensorflow as tf\n",
    "\n",
    "import cv2\n",
    "import os\n",
    "import PIL\n",
    "import random\n",
    "\n",
    "from tensorflow import keras\n",
    "from tensorflow.keras import layers\n",
    "from tensorflow.keras.models import Sequential\n",
    "\n",
    "import matplotlib.image as mpimg\n",
    "%matplotlib inline\n",
    "\n"
   ]
  },
  {
   "cell_type": "code",
   "execution_count": 15,
   "metadata": {},
   "outputs": [
    {
     "ename": "NotFoundError",
     "evalue": "Could not find directory D:\\devProjects\tomotoDetectionOptimization\train",
     "output_type": "error",
     "traceback": [
      "\u001b[1;31m---------------------------------------------------------------------------\u001b[0m",
      "\u001b[1;31mNotFoundError\u001b[0m                             Traceback (most recent call last)",
      "\u001b[1;32md:\\devProjects\\tomotoDetectionOptimization\\algorithm.ipynb Cell 2'\u001b[0m in \u001b[0;36m<cell line: 2>\u001b[1;34m()\u001b[0m\n\u001b[0;32m      <a href='vscode-notebook-cell:/d%3A/devProjects/tomotoDetectionOptimization/algorithm.ipynb#ch0000001?line=0'>1</a>\u001b[0m data_path \u001b[39m=\u001b[39m \u001b[39m\"\u001b[39m\u001b[39mD:\u001b[39m\u001b[39m\\\u001b[39m\u001b[39mdevProjects\u001b[39m\u001b[39m\\t\u001b[39;00m\u001b[39momotoDetectionOptimization\u001b[39m\u001b[39m\\t\u001b[39;00m\u001b[39mrain\u001b[39m\u001b[39m\"\u001b[39m\n\u001b[1;32m----> <a href='vscode-notebook-cell:/d%3A/devProjects/tomotoDetectionOptimization/algorithm.ipynb#ch0000001?line=1'>2</a>\u001b[0m data_dir \u001b[39m=\u001b[39m tf\u001b[39m.\u001b[39;49mkeras\u001b[39m.\u001b[39;49mutils\u001b[39m.\u001b[39;49mimage_dataset_from_directory(data_path)\n",
      "File \u001b[1;32mc:\\Users\\USER\\AppData\\Local\\Programs\\Python\\Python310\\lib\\site-packages\\keras\\utils\\image_dataset.py:192\u001b[0m, in \u001b[0;36mimage_dataset_from_directory\u001b[1;34m(directory, labels, label_mode, class_names, color_mode, batch_size, image_size, shuffle, seed, validation_split, subset, interpolation, follow_links, crop_to_aspect_ratio, **kwargs)\u001b[0m\n\u001b[0;32m    <a href='file:///c%3A/Users/USER/AppData/Local/Programs/Python/Python310/lib/site-packages/keras/utils/image_dataset.py?line=189'>190</a>\u001b[0m \u001b[39mif\u001b[39;00m seed \u001b[39mis\u001b[39;00m \u001b[39mNone\u001b[39;00m:\n\u001b[0;32m    <a href='file:///c%3A/Users/USER/AppData/Local/Programs/Python/Python310/lib/site-packages/keras/utils/image_dataset.py?line=190'>191</a>\u001b[0m   seed \u001b[39m=\u001b[39m np\u001b[39m.\u001b[39mrandom\u001b[39m.\u001b[39mrandint(\u001b[39m1e6\u001b[39m)\n\u001b[1;32m--> <a href='file:///c%3A/Users/USER/AppData/Local/Programs/Python/Python310/lib/site-packages/keras/utils/image_dataset.py?line=191'>192</a>\u001b[0m image_paths, labels, class_names \u001b[39m=\u001b[39m dataset_utils\u001b[39m.\u001b[39;49mindex_directory(\n\u001b[0;32m    <a href='file:///c%3A/Users/USER/AppData/Local/Programs/Python/Python310/lib/site-packages/keras/utils/image_dataset.py?line=192'>193</a>\u001b[0m     directory,\n\u001b[0;32m    <a href='file:///c%3A/Users/USER/AppData/Local/Programs/Python/Python310/lib/site-packages/keras/utils/image_dataset.py?line=193'>194</a>\u001b[0m     labels,\n\u001b[0;32m    <a href='file:///c%3A/Users/USER/AppData/Local/Programs/Python/Python310/lib/site-packages/keras/utils/image_dataset.py?line=194'>195</a>\u001b[0m     formats\u001b[39m=\u001b[39;49mALLOWLIST_FORMATS,\n\u001b[0;32m    <a href='file:///c%3A/Users/USER/AppData/Local/Programs/Python/Python310/lib/site-packages/keras/utils/image_dataset.py?line=195'>196</a>\u001b[0m     class_names\u001b[39m=\u001b[39;49mclass_names,\n\u001b[0;32m    <a href='file:///c%3A/Users/USER/AppData/Local/Programs/Python/Python310/lib/site-packages/keras/utils/image_dataset.py?line=196'>197</a>\u001b[0m     shuffle\u001b[39m=\u001b[39;49mshuffle,\n\u001b[0;32m    <a href='file:///c%3A/Users/USER/AppData/Local/Programs/Python/Python310/lib/site-packages/keras/utils/image_dataset.py?line=197'>198</a>\u001b[0m     seed\u001b[39m=\u001b[39;49mseed,\n\u001b[0;32m    <a href='file:///c%3A/Users/USER/AppData/Local/Programs/Python/Python310/lib/site-packages/keras/utils/image_dataset.py?line=198'>199</a>\u001b[0m     follow_links\u001b[39m=\u001b[39;49mfollow_links)\n\u001b[0;32m    <a href='file:///c%3A/Users/USER/AppData/Local/Programs/Python/Python310/lib/site-packages/keras/utils/image_dataset.py?line=200'>201</a>\u001b[0m \u001b[39mif\u001b[39;00m label_mode \u001b[39m==\u001b[39m \u001b[39m'\u001b[39m\u001b[39mbinary\u001b[39m\u001b[39m'\u001b[39m \u001b[39mand\u001b[39;00m \u001b[39mlen\u001b[39m(class_names) \u001b[39m!=\u001b[39m \u001b[39m2\u001b[39m:\n\u001b[0;32m    <a href='file:///c%3A/Users/USER/AppData/Local/Programs/Python/Python310/lib/site-packages/keras/utils/image_dataset.py?line=201'>202</a>\u001b[0m   \u001b[39mraise\u001b[39;00m \u001b[39mValueError\u001b[39;00m(\n\u001b[0;32m    <a href='file:///c%3A/Users/USER/AppData/Local/Programs/Python/Python310/lib/site-packages/keras/utils/image_dataset.py?line=202'>203</a>\u001b[0m       \u001b[39mf\u001b[39m\u001b[39m'\u001b[39m\u001b[39mWhen passing `label_mode=\u001b[39m\u001b[39m\"\u001b[39m\u001b[39mbinary\u001b[39m\u001b[39m\"\u001b[39m\u001b[39m`, there must be exactly 2 \u001b[39m\u001b[39m'\u001b[39m\n\u001b[0;32m    <a href='file:///c%3A/Users/USER/AppData/Local/Programs/Python/Python310/lib/site-packages/keras/utils/image_dataset.py?line=203'>204</a>\u001b[0m       \u001b[39mf\u001b[39m\u001b[39m'\u001b[39m\u001b[39mclass_names. Received: class_names=\u001b[39m\u001b[39m{\u001b[39;00mclass_names\u001b[39m}\u001b[39;00m\u001b[39m'\u001b[39m)\n",
      "File \u001b[1;32mc:\\Users\\USER\\AppData\\Local\\Programs\\Python\\Python310\\lib\\site-packages\\keras\\utils\\dataset_utils.py:66\u001b[0m, in \u001b[0;36mindex_directory\u001b[1;34m(directory, labels, formats, class_names, shuffle, seed, follow_links)\u001b[0m\n\u001b[0;32m     <a href='file:///c%3A/Users/USER/AppData/Local/Programs/Python/Python310/lib/site-packages/keras/utils/dataset_utils.py?line=63'>64</a>\u001b[0m \u001b[39melse\u001b[39;00m:\n\u001b[0;32m     <a href='file:///c%3A/Users/USER/AppData/Local/Programs/Python/Python310/lib/site-packages/keras/utils/dataset_utils.py?line=64'>65</a>\u001b[0m   subdirs \u001b[39m=\u001b[39m []\n\u001b[1;32m---> <a href='file:///c%3A/Users/USER/AppData/Local/Programs/Python/Python310/lib/site-packages/keras/utils/dataset_utils.py?line=65'>66</a>\u001b[0m   \u001b[39mfor\u001b[39;00m subdir \u001b[39min\u001b[39;00m \u001b[39msorted\u001b[39m(tf\u001b[39m.\u001b[39;49mio\u001b[39m.\u001b[39;49mgfile\u001b[39m.\u001b[39;49mlistdir(directory)):\n\u001b[0;32m     <a href='file:///c%3A/Users/USER/AppData/Local/Programs/Python/Python310/lib/site-packages/keras/utils/dataset_utils.py?line=66'>67</a>\u001b[0m     \u001b[39mif\u001b[39;00m tf\u001b[39m.\u001b[39mio\u001b[39m.\u001b[39mgfile\u001b[39m.\u001b[39misdir(tf\u001b[39m.\u001b[39mio\u001b[39m.\u001b[39mgfile\u001b[39m.\u001b[39mjoin(directory, subdir)):\n\u001b[0;32m     <a href='file:///c%3A/Users/USER/AppData/Local/Programs/Python/Python310/lib/site-packages/keras/utils/dataset_utils.py?line=67'>68</a>\u001b[0m       \u001b[39mif\u001b[39;00m subdir\u001b[39m.\u001b[39mendswith(\u001b[39m'\u001b[39m\u001b[39m/\u001b[39m\u001b[39m'\u001b[39m):\n",
      "File \u001b[1;32mc:\\Users\\USER\\AppData\\Local\\Programs\\Python\\Python310\\lib\\site-packages\\tensorflow\\python\\lib\\io\\file_io.py:766\u001b[0m, in \u001b[0;36mlist_directory_v2\u001b[1;34m(path)\u001b[0m\n\u001b[0;32m    <a href='file:///c%3A/Users/USER/AppData/Local/Programs/Python/Python310/lib/site-packages/tensorflow/python/lib/io/file_io.py?line=750'>751</a>\u001b[0m \u001b[39m\"\"\"Returns a list of entries contained within a directory.\u001b[39;00m\n\u001b[0;32m    <a href='file:///c%3A/Users/USER/AppData/Local/Programs/Python/Python310/lib/site-packages/tensorflow/python/lib/io/file_io.py?line=751'>752</a>\u001b[0m \n\u001b[0;32m    <a href='file:///c%3A/Users/USER/AppData/Local/Programs/Python/Python310/lib/site-packages/tensorflow/python/lib/io/file_io.py?line=752'>753</a>\u001b[0m \u001b[39mThe list is in arbitrary order. It does not contain the special entries \".\"\u001b[39;00m\n\u001b[1;32m   (...)\u001b[0m\n\u001b[0;32m    <a href='file:///c%3A/Users/USER/AppData/Local/Programs/Python/Python310/lib/site-packages/tensorflow/python/lib/io/file_io.py?line=762'>763</a>\u001b[0m \u001b[39m  errors.NotFoundError if directory doesn't exist\u001b[39;00m\n\u001b[0;32m    <a href='file:///c%3A/Users/USER/AppData/Local/Programs/Python/Python310/lib/site-packages/tensorflow/python/lib/io/file_io.py?line=763'>764</a>\u001b[0m \u001b[39m\"\"\"\u001b[39;00m\n\u001b[0;32m    <a href='file:///c%3A/Users/USER/AppData/Local/Programs/Python/Python310/lib/site-packages/tensorflow/python/lib/io/file_io.py?line=764'>765</a>\u001b[0m \u001b[39mif\u001b[39;00m \u001b[39mnot\u001b[39;00m is_directory(path):\n\u001b[1;32m--> <a href='file:///c%3A/Users/USER/AppData/Local/Programs/Python/Python310/lib/site-packages/tensorflow/python/lib/io/file_io.py?line=765'>766</a>\u001b[0m   \u001b[39mraise\u001b[39;00m errors\u001b[39m.\u001b[39mNotFoundError(\n\u001b[0;32m    <a href='file:///c%3A/Users/USER/AppData/Local/Programs/Python/Python310/lib/site-packages/tensorflow/python/lib/io/file_io.py?line=766'>767</a>\u001b[0m       node_def\u001b[39m=\u001b[39m\u001b[39mNone\u001b[39;00m,\n\u001b[0;32m    <a href='file:///c%3A/Users/USER/AppData/Local/Programs/Python/Python310/lib/site-packages/tensorflow/python/lib/io/file_io.py?line=767'>768</a>\u001b[0m       op\u001b[39m=\u001b[39m\u001b[39mNone\u001b[39;00m,\n\u001b[0;32m    <a href='file:///c%3A/Users/USER/AppData/Local/Programs/Python/Python310/lib/site-packages/tensorflow/python/lib/io/file_io.py?line=768'>769</a>\u001b[0m       message\u001b[39m=\u001b[39m\u001b[39m\"\u001b[39m\u001b[39mCould not find directory \u001b[39m\u001b[39m{}\u001b[39;00m\u001b[39m\"\u001b[39m\u001b[39m.\u001b[39mformat(path))\n\u001b[0;32m    <a href='file:///c%3A/Users/USER/AppData/Local/Programs/Python/Python310/lib/site-packages/tensorflow/python/lib/io/file_io.py?line=770'>771</a>\u001b[0m \u001b[39m# Convert each element to string, since the return values of the\u001b[39;00m\n\u001b[0;32m    <a href='file:///c%3A/Users/USER/AppData/Local/Programs/Python/Python310/lib/site-packages/tensorflow/python/lib/io/file_io.py?line=771'>772</a>\u001b[0m \u001b[39m# vector of string should be interpreted as strings, not bytes.\u001b[39;00m\n\u001b[0;32m    <a href='file:///c%3A/Users/USER/AppData/Local/Programs/Python/Python310/lib/site-packages/tensorflow/python/lib/io/file_io.py?line=772'>773</a>\u001b[0m \u001b[39mreturn\u001b[39;00m [\n\u001b[0;32m    <a href='file:///c%3A/Users/USER/AppData/Local/Programs/Python/Python310/lib/site-packages/tensorflow/python/lib/io/file_io.py?line=773'>774</a>\u001b[0m     compat\u001b[39m.\u001b[39mas_str_any(filename)\n\u001b[0;32m    <a href='file:///c%3A/Users/USER/AppData/Local/Programs/Python/Python310/lib/site-packages/tensorflow/python/lib/io/file_io.py?line=774'>775</a>\u001b[0m     \u001b[39mfor\u001b[39;00m filename \u001b[39min\u001b[39;00m _pywrap_file_io\u001b[39m.\u001b[39mGetChildren(compat\u001b[39m.\u001b[39mpath_to_bytes(path))\n\u001b[0;32m    <a href='file:///c%3A/Users/USER/AppData/Local/Programs/Python/Python310/lib/site-packages/tensorflow/python/lib/io/file_io.py?line=775'>776</a>\u001b[0m ]\n",
      "\u001b[1;31mNotFoundError\u001b[0m: Could not find directory D:\\devProjects\tomotoDetectionOptimization\train"
     ]
    }
   ],
   "source": [
    "data_path = \"D:\\devProjects\\tomotoDetectionOptimization\\tssrain\"\n",
    "data_dir = tf.keras.utils.image_dataset_from_directory(data_path)"
   ]
  }
 ],
 "metadata": {
  "interpreter": {
   "hash": "df95319d8ce4e1d89f5365ae10992bc1f65da593082b1d264e8f529830ec2f02"
  },
  "kernelspec": {
   "display_name": "Python 3.10.3 64-bit",
   "language": "python",
   "name": "python3"
  },
  "language_info": {
   "codemirror_mode": {
    "name": "ipython",
    "version": 3
   },
   "file_extension": ".py",
   "mimetype": "text/x-python",
   "name": "python",
   "nbconvert_exporter": "python",
   "pygments_lexer": "ipython3",
   "version": "3.10.3"
  },
  "orig_nbformat": 4
 },
 "nbformat": 4,
 "nbformat_minor": 2
}
